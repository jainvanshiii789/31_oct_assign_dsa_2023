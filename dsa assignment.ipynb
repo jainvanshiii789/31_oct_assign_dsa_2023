{
 "cells": [
  {
   "cell_type": "markdown",
   "id": "3032d3f3-3725-4187-b825-56601c6df73c",
   "metadata": {},
   "source": [
    "# 30_oct_assignment:"
   ]
  },
  {
   "cell_type": "markdown",
   "id": "8a542d3e-242f-4704-a98b-0dcaf7858877",
   "metadata": {},
   "source": [
    "### 1. Given an array, check if it contains any duplicates or not.\n",
    "### arr = [1, 2, 4, 2, 5, 9]\n",
    "### Output = True"
   ]
  },
  {
   "cell_type": "code",
   "execution_count": 4,
   "id": "85b5cf6f-d6b8-4731-acd2-6e27ce5ce1ce",
   "metadata": {},
   "outputs": [],
   "source": [
    "# for checking the duplicates we have to define a function:\n",
    "def is_duplicate(arr):\n",
    "# initilize a array to store the unique elements:\n",
    "    unique = []\n",
    "# iterate through the given array:\n",
    "    for i in arr:\n",
    "    # if the element is unique add it into unique list: \n",
    "        if i not in unique:\n",
    "            unique.append(i)\n",
    "    # otherwise return true for duplicate:\n",
    "    return True"
   ]
  },
  {
   "cell_type": "code",
   "execution_count": 5,
   "id": "a3be2038-f25c-464f-8864-835416fb045c",
   "metadata": {},
   "outputs": [
    {
     "data": {
      "text/plain": [
       "True"
      ]
     },
     "execution_count": 5,
     "metadata": {},
     "output_type": "execute_result"
    }
   ],
   "source": [
    "# function call:\n",
    "arr = [1,2,4,2,5,9]\n",
    "output = is_duplicate(arr)\n",
    "output"
   ]
  },
  {
   "cell_type": "markdown",
   "id": "65d58032-b24f-4300-9434-51a15e32fa86",
   "metadata": {},
   "source": [
    "### 2. Given an array and an integer k, rotate the array to the right by k steps.\n",
    "### arr = [1, 2, 3, 4, 5, 6, 7] k = 3\n",
    "### Output = [5, 6, 7, 1, 2, 3, 4]"
   ]
  },
  {
   "cell_type": "code",
   "execution_count": 6,
   "id": "22c17bfc-f1fd-4089-a87b-cbcb8ad0471c",
   "metadata": {},
   "outputs": [],
   "source": [
    "# firstly define a function rotate to rotate the array to the right by k steps which accepts two arguments:\n",
    "def rotate(arr,k):\n",
    "    # use slicing to rotate the array:\n",
    "    l = arr[-k:] + arr[0:k+1]\n",
    "    return l"
   ]
  },
  {
   "cell_type": "code",
   "execution_count": 7,
   "id": "bda6c9d5-4967-4411-bf5d-9abebf50ea19",
   "metadata": {},
   "outputs": [
    {
     "data": {
      "text/plain": [
       "[5, 6, 7, 1, 2, 3, 4]"
      ]
     },
     "execution_count": 7,
     "metadata": {},
     "output_type": "execute_result"
    }
   ],
   "source": [
    "# call the function:\n",
    "arr = [1, 2, 3, 4, 5, 6, 7] \n",
    "k = 3\n",
    "output = rotate(arr,k)\n",
    "output"
   ]
  },
  {
   "cell_type": "markdown",
   "id": "df794f1c-796d-4533-9907-0a52414981aa",
   "metadata": {},
   "source": [
    "### 3. Reverse the given array in-place, means without using any extra data structure.\n",
    "### arr = [2, 4, 5, 7, 9, 12]\n",
    "### Output = [12, 9, 7, 5, 4, 2]"
   ]
  },
  {
   "cell_type": "code",
   "execution_count": 23,
   "id": "dbb4d8c7-f742-45ee-91e9-454c73ae3fa8",
   "metadata": {},
   "outputs": [
    {
     "data": {
      "text/plain": [
       "[12, 9, 7, 5, 4, 2]"
      ]
     },
     "execution_count": 23,
     "metadata": {},
     "output_type": "execute_result"
    }
   ],
   "source": [
    "# define a funtion:\n",
    "def rev_arr(arr):\n",
    "    # to reverse an array use slicing :\n",
    "    rev = arr[::-1]\n",
    "    # now return the reverse:\n",
    "    return rev\n",
    "\n",
    "### driver code\n",
    "arr = [2, 4, 5, 7, 9, 12]\n",
    "output = rev_arr(arr)\n",
    "output"
   ]
  },
  {
   "cell_type": "markdown",
   "id": "07e48185-a50c-4d44-aa7b-a2656d36e300",
   "metadata": {},
   "source": [
    "### 4. Given an array of integers, find the maximum element in an array\n",
    "### arr = [10, 5, 20, 8, 15]\n",
    "### Output = 20\n"
   ]
  },
  {
   "cell_type": "code",
   "execution_count": 14,
   "id": "4a8b9f35-9c33-44cf-8709-91f6394de52f",
   "metadata": {},
   "outputs": [],
   "source": [
    "# to find mximum eelment define a function :\n",
    "def find_max(arr):\n",
    "    # initialize a temporary variable to store the value of index 0:\n",
    "    temp = arr[0]\n",
    "    # now iterate over the array through the loop to check every element one by one:\n",
    "    for i in range(len(arr)):\n",
    "        # checking if element is mximum or not:\n",
    "        if arr[i]>temp:\n",
    "            temp = arr[i]\n",
    "    return temp\n"
   ]
  },
  {
   "cell_type": "code",
   "execution_count": 16,
   "id": "52d7ce5a-6151-407f-a6f0-522fe41b4d20",
   "metadata": {},
   "outputs": [
    {
     "data": {
      "text/plain": [
       "20"
      ]
     },
     "execution_count": 16,
     "metadata": {},
     "output_type": "execute_result"
    }
   ],
   "source": [
    "# function call:\n",
    "arr = [10, 5, 20, 8, 15]\n",
    "output = find_max(arr)\n",
    "output"
   ]
  },
  {
   "cell_type": "markdown",
   "id": "0d11360a-7862-4803-b012-276966a2ddac",
   "metadata": {},
   "source": [
    "### 5. Given a sorted array, remove the duplicate element without using any extra data structure.\n",
    "### arr = [1, 1, 2, 2, 2, 3, 3, 4, 4, 4, 5, 5]\n",
    "### Output = [1, 2, 3, 4, 5]"
   ]
  },
  {
   "cell_type": "code",
   "execution_count": null,
   "id": "25c724f3-4d76-4639-9310-0e2d7610a266",
   "metadata": {},
   "outputs": [],
   "source": [
    "# define a function to remove the duplicates:\n",
    "def remove_duplicates(arr):\n",
    "    # initialize an array :\n",
    "    l1 = []\n",
    "    # iterate through the array:\n",
    "    for i in arr:\n",
    "        # check if the element is duplicate:\n",
    "        if i not in l1:\n",
    "            l1.append(i)\n",
    "    return l1"
   ]
  },
  {
   "cell_type": "code",
   "execution_count": 25,
   "id": "efc248af-7329-48e5-bd0b-af0f1fe0c5e5",
   "metadata": {},
   "outputs": [
    {
     "data": {
      "text/plain": [
       "[1, 2, 3, 4, 5]"
      ]
     },
     "execution_count": 25,
     "metadata": {},
     "output_type": "execute_result"
    }
   ],
   "source": [
    "# function call:\n",
    "arr = [1, 1, 2, 2, 2, 3, 3, 4, 4, 4, 5, 5]\n",
    "output = remove_duplicates(arr)\n",
    "output"
   ]
  },
  {
   "cell_type": "markdown",
   "id": "b585aeb4-52eb-442a-8041-687d8465fa4f",
   "metadata": {},
   "source": [
    "# RECURSION IN ARRAYS :"
   ]
  },
  {
   "cell_type": "code",
   "execution_count": 1,
   "id": "9667f4c9-3bae-4f16-810b-b8d2caf9d52e",
   "metadata": {},
   "outputs": [],
   "source": [
    "def fib(n):\n",
    "    if n<=1:\n",
    "        return n\n",
    "    return fib(n-1) + fib(n-2)"
   ]
  },
  {
   "cell_type": "code",
   "execution_count": 1,
   "id": "1423df39-22bd-4303-a685-ac8faa2356ed",
   "metadata": {},
   "outputs": [],
   "source": [
    "def fib(n):\n",
    "    if n<=1:\n",
    "        return n\n",
    "    return fib(n-1) + fib(n-2)"
   ]
  },
  {
   "cell_type": "code",
   "execution_count": 2,
   "id": "bec3a094-d570-4357-a69b-3861894a83fc",
   "metadata": {},
   "outputs": [
    {
     "data": {
      "text/plain": [
       "5"
      ]
     },
     "execution_count": 2,
     "metadata": {},
     "output_type": "execute_result"
    }
   ],
   "source": [
    "fib(5)"
   ]
  },
  {
   "cell_type": "code",
   "execution_count": 3,
   "id": "6e1c631b-c5a1-4af3-9495-3118cc69eaaa",
   "metadata": {},
   "outputs": [
    {
     "data": {
      "text/plain": [
       "21"
      ]
     },
     "execution_count": 3,
     "metadata": {},
     "output_type": "execute_result"
    }
   ],
   "source": [
    "fib(8)"
   ]
  },
  {
   "cell_type": "code",
   "execution_count": 1,
   "id": "8d5d8929-2c2b-4f91-8375-4939418d4584",
   "metadata": {},
   "outputs": [],
   "source": [
    "def rotate(arr,k):\n",
    "    l = arr[:-k:-1] + arr[0:k]\n",
    "    return l"
   ]
  },
  {
   "cell_type": "code",
   "execution_count": null,
   "id": "668e2468-0dc8-4528-b467-a75b33d863e0",
   "metadata": {},
   "outputs": [],
   "source": [
    "arr = [1, 2, 3, 4, 5, 6, 7] \n",
    "k = 3\n",
    "print(rotate(arr,k))"
   ]
  },
  {
   "cell_type": "code",
   "execution_count": 19,
   "id": "c422d72e-bdfb-45bf-8a8c-08d359582298",
   "metadata": {},
   "outputs": [],
   "source": [
    "def remove_duplicates(arr):\n",
    "    l1 = []\n",
    "    for i in arr:\n",
    "        if i not in l1:\n",
    "            l1.append(i)\n",
    "    return l1"
   ]
  },
  {
   "cell_type": "code",
   "execution_count": 21,
   "id": "4f648c81-3cfd-4d22-b127-1646078b76d4",
   "metadata": {},
   "outputs": [
    {
     "data": {
      "text/plain": [
       "[1, 2, 3, 4, 5]"
      ]
     },
     "execution_count": 21,
     "metadata": {},
     "output_type": "execute_result"
    }
   ],
   "source": [
    "remove_duplicates( [1, 1, 2, 2, 2, 3, 3, 4, 4, 4, 5, 5])"
   ]
  },
  {
   "cell_type": "code",
   "execution_count": null,
   "id": "15dab719-9fbf-4bc9-a031-f027776a4ff9",
   "metadata": {},
   "outputs": [],
   "source": []
  }
 ],
 "metadata": {
  "kernelspec": {
   "display_name": "Python 3 (ipykernel)",
   "language": "python",
   "name": "python3"
  },
  "language_info": {
   "codemirror_mode": {
    "name": "ipython",
    "version": 3
   },
   "file_extension": ".py",
   "mimetype": "text/x-python",
   "name": "python",
   "nbconvert_exporter": "python",
   "pygments_lexer": "ipython3",
   "version": "3.10.8"
  }
 },
 "nbformat": 4,
 "nbformat_minor": 5
}
